{
 "cells": [
  {
   "cell_type": "code",
   "execution_count": null,
   "id": "b22ffa74",
   "metadata": {
    "id": "b22ffa74"
   },
   "outputs": [],
   "source": []
  },
  {
   "cell_type": "markdown",
   "id": "602a8331",
   "metadata": {
    "id": "602a8331"
   },
   "source": [
    "\n",
    "### 1. Find the Cartesian Product of the below given sets in the below cell. (In Python Code)\n",
    "\n",
    "A = set(['a','b','c'])\n",
    "\n",
    "S = {1,2,3}\n"
   ]
  },
  {
   "cell_type": "code",
   "execution_count": 3,
   "id": "687ecab0",
   "metadata": {
    "id": "687ecab0",
    "outputId": "cc05f4cb-c2d6-4745-e830-b6f68573dfbb"
   },
   "outputs": [
    {
     "name": "stdout",
     "output_type": "stream",
     "text": [
      "Cartesian product of A and S\n",
      "{'b', 'a', 'c'} X {1, 2, 3}:{('a', 2), ('c', 1), ('b', 1), ('a', 1), ('c', 3), ('b', 3), ('c', 2), ('b', 2), ('a', 3)}\n"
     ]
    }
   ],
   "source": [
    "A = set(['a','b','c'])\n",
    "\n",
    "S = {1,2,3}\n",
    "\n",
    "def cartesian_product(S1,S2):\n",
    "    result = set()\n",
    "    for i in S1:\n",
    "        for j in S2:\n",
    "            result.add(tuple([i,j]))\n",
    "    return (result)\n",
    "\n",
    "C = cartesian_product(A,S)\n",
    "print(\"Cartesian product of A and S\\n{} X {}:{}\".format(A,S,C))"
   ]
  },
  {
   "cell_type": "markdown",
   "id": "0f69076e",
   "metadata": {
    "id": "0f69076e"
   },
   "source": [
    "### 2. Find all the possible permutations and number of permutations of A\n",
    "\n",
    "A = {'Red','Green','Blue'}\n"
   ]
  },
  {
   "cell_type": "code",
   "execution_count": 4,
   "id": "cf4e2341",
   "metadata": {
    "id": "cf4e2341",
    "outputId": "898441ea-1782-42bd-cf22-8313881dcac9"
   },
   "outputs": [
    {
     "name": "stdout",
     "output_type": "stream",
     "text": [
      "Permutations of {'Blue', 'Red', 'Green'}\n",
      "--------------------------------------------------\n",
      "('Green', 'Blue', 'Red')\n",
      "('Blue', 'Red', 'Green')\n",
      "('Red', 'Blue', 'Green')\n",
      "('Red', 'Green', 'Blue')\n",
      "('Blue', 'Green', 'Red')\n",
      "('Green', 'Red', 'Blue')\n",
      "--------------------------------------------------\n",
      "Number of permutations:  6\n"
     ]
    }
   ],
   "source": [
    "import itertools\n",
    "\n",
    "A = {'Red','Green','Blue'}\n",
    "permute_all = set(itertools.permutations(A))\n",
    "print(\"Permutations of {}\".format(A))\n",
    "print(\"-\"*50)\n",
    "for i in permute_all:\n",
    "    print(i)\n",
    "print(\"-\"*50)\n",
    "print (\"Number of permutations: \", len(permute_all))"
   ]
  },
  {
   "cell_type": "code",
   "execution_count": null,
   "id": "3092f14c",
   "metadata": {
    "id": "3092f14c"
   },
   "outputs": [],
   "source": []
  },
  {
   "cell_type": "markdown",
   "id": "31a2d233",
   "metadata": {
    "id": "31a2d233"
   },
   "source": [
    "### 3. Research Question on Hypothesis Testing\n",
    "\n",
    "In previous years, 52% of parents believed that electronics and social media was the cause of their teenager’s lack of sleep. Do more parents today believe that their teenager’s lack of sleep is caused due to electronics and social media?\n",
    "\n",
    "**Population**: Parents with a teenager (age 13-18)  \n",
    "**Parameter of Interest**: p  \n",
    "\n",
    "**Null Hypothesis:** p = 0.52  \n",
    "**Alternative Hypthosis:** p > 0.52 (note that this is a one-sided test)\n",
    "\n",
    "**Data**: 1018 people were surveyed. 56% of those who were surveyed believe that their teenager’s lack of sleep is caused due to electronics and social media."
   ]
  },
  {
   "cell_type": "markdown",
   "id": "76b2a9ac",
   "metadata": {
    "id": "76b2a9ac"
   },
   "source": [
    "### Use of `proportions_ztest()` from `statsmodels`\n",
    "\n",
    "Note the argument `alternative=\"larger\"` indicating a one-sided test. The function returns two values - the z-statistic and the corresponding p-value."
   ]
  },
  {
   "cell_type": "code",
   "execution_count": 5,
   "id": "e5169431",
   "metadata": {
    "id": "e5169431"
   },
   "outputs": [],
   "source": [
    "n = 1018\n",
    "pnull = .52\n",
    "phat = .56"
   ]
  },
  {
   "cell_type": "code",
   "execution_count": 6,
   "id": "fb8bc517",
   "metadata": {
    "id": "fb8bc517",
    "outputId": "9ff1f68d-6866-4de4-84a8-16d0d69136b6"
   },
   "outputs": [
    {
     "data": {
      "text/plain": [
       "(2.571067795759113, 0.005069273865860533)"
      ]
     },
     "execution_count": 6,
     "metadata": {},
     "output_type": "execute_result"
    }
   ],
   "source": [
    "import statsmodels.api as sm\n",
    "\n",
    "sm.stats.proportions_ztest(phat * n, n, pnull, alternative='larger')"
   ]
  },
  {
   "cell_type": "markdown",
   "id": "b983e0bb",
   "metadata": {
    "id": "b983e0bb"
   },
   "source": [
    "### Conclusion of the hypothesis test\n",
    "Since the calculated p-value of the z-test is pretty small, we can reject the Null hypothesis that the percentage of parents, who believe that their teenager’s lack of sleep is caused due to electronics and social media, is as same as previous years' estimate i.e. 52%.\n",
    "\n",
    "Although, we do not accept the alternate hypothesis, this informally means that there is a good chance of this proportion being more than 52%."
   ]
  },
  {
   "cell_type": "code",
   "execution_count": null,
   "id": "4c2986e1",
   "metadata": {
    "id": "4c2986e1"
   },
   "outputs": [],
   "source": []
  },
  {
   "cell_type": "markdown",
   "id": "5ab64a9a",
   "metadata": {
    "id": "5ab64a9a"
   },
   "source": [
    "### 4. Calculate the set difference between the 2 sets (set1 - multipes of 3 upto a range of 31 and set2 - multiples of upto a range of 31)"
   ]
  },
  {
   "cell_type": "code",
   "execution_count": 7,
   "id": "e58543d3",
   "metadata": {
    "id": "e58543d3",
    "outputId": "24263bfe-aefd-4302-bdff-d4de1892fb08"
   },
   "outputs": [
    {
     "name": "stdout",
     "output_type": "stream",
     "text": [
      "Set S1: {0, 3, 6, 9, 12, 15, 18, 21, 24, 27, 30}\n"
     ]
    }
   ],
   "source": [
    "S1 = set([x for x in range(31) if x%3==0])\n",
    "print (\"Set S1:\", S1)"
   ]
  },
  {
   "cell_type": "code",
   "execution_count": 8,
   "id": "f4b6c461",
   "metadata": {
    "id": "f4b6c461",
    "outputId": "e76e461b-8313-456b-decc-6c0e27663318"
   },
   "outputs": [
    {
     "name": "stdout",
     "output_type": "stream",
     "text": [
      "Set S2: {0, 5, 10, 15, 20, 25, 30}\n"
     ]
    }
   ],
   "source": [
    "S2 = set([x for x in range(31) if x%5==0])\n",
    "print (\"Set S2:\", S2)"
   ]
  },
  {
   "cell_type": "code",
   "execution_count": 9,
   "id": "b3ea48d8",
   "metadata": {
    "id": "b3ea48d8",
    "outputId": "bf63c502-5144-48a5-e9cb-238bd091bd65"
   },
   "outputs": [
    {
     "name": "stdout",
     "output_type": "stream",
     "text": [
      "Difference of S1 and S2 i.e. S2\\S1: {25, 10, 20, 5}\n",
      "Difference of S2 and S1 i.e. S1\\S2: {3, 6, 9, 12, 18, 21, 24, 27}\n"
     ]
    }
   ],
   "source": [
    "S_difference = S2-S1\n",
    "print(\"Difference of S1 and S2 i.e. S2\\S1:\", S_difference)\n",
    "\n",
    "S_difference = S1.difference(S2)\n",
    "print(\"Difference of S2 and S1 i.e. S1\\S2:\", S_difference)"
   ]
  },
  {
   "cell_type": "code",
   "execution_count": 10,
   "id": "e03fb2d8",
   "metadata": {
    "id": "e03fb2d8"
   },
   "outputs": [
    {
     "name": "stdout",
     "output_type": "stream",
     "text": [
      "{3, 6, 9, 12, 15, 18, 21, 24, 27, 30}\n",
      "{5, 10, 15, 20, 25, 30}\n",
      "{3, 6, 9, 12, 18, 21, 24, 27}\n"
     ]
    }
   ],
   "source": [
    "# another way to solve this question\n",
    "l1=[]\n",
    "l2=[]\n",
    "for i in range(1,32):\n",
    "    if i%3==0:\n",
    "        l1.append(i)\n",
    "for i in range(1,32):\n",
    "    if i%5==0:\n",
    "        l2.append(i)\n",
    "\n",
    "\n",
    "#print(l1)\n",
    "#print(l2)\n",
    "s1=set(l1)\n",
    "s2=set(l2)\n",
    "print(s1)\n",
    "print(s2)\n",
    "print(s1-s2)"
   ]
  },
  {
   "cell_type": "markdown",
   "id": "42769d95",
   "metadata": {
    "id": "42769d95"
   },
   "source": [
    "### 5. Calculate a function to generate random arrays with range of (1,100) and the naive functions to calculate Mean, Varience and Standard deviation for the array generated"
   ]
  },
  {
   "cell_type": "code",
   "execution_count": null,
   "id": "08af8ad4",
   "metadata": {
    "id": "08af8ad4"
   },
   "outputs": [],
   "source": []
  },
  {
   "cell_type": "code",
   "execution_count": 11,
   "id": "d7cad8f0",
   "metadata": {
    "id": "d7cad8f0"
   },
   "outputs": [],
   "source": [
    "def random_array(num_elements,lower=1,upper=100):\n",
    "    \"\"\"\n",
    "    \"\"\"\n",
    "    from random import randint\n",
    "    lst = []\n",
    "    for _ in range(num_elements):\n",
    "        lst.append(randint(lower,upper))\n",
    "    return lst\n",
    "\n",
    "\n",
    "def mean(array):\n",
    "    \"\"\"\n",
    "    Computes mean\n",
    "    \"\"\"\n",
    "    length = len(array)\n",
    "    sum = 0\n",
    "    for i in range(length):\n",
    "        sum+=array[i]#sum=sum+array[i]\n",
    "    mean = sum/length\n",
    "    return mean\n",
    "\n",
    "\n",
    "def variance(array):\n",
    "    \"\"\"\n",
    "    Computes variance\n",
    "    \"\"\"\n",
    "    length = len(array)\n",
    "    avg = mean(array)\n",
    "    sumsq = 0\n",
    "    for i in range(length):\n",
    "        sumsq+=(array[i]-avg)**2\n",
    "    variance = sumsq/length\n",
    "    return variance\n",
    "\n",
    "\n",
    "def std_dev(array):\n",
    "    \"\"\"\n",
    "    Computes std. deviation\n",
    "    \"\"\"\n",
    "    from math import sqrt\n",
    "    return (sqrt(variance(array)))\n",
    "\n",
    "\n"
   ]
  },
  {
   "cell_type": "code",
   "execution_count": 12,
   "id": "1e7e4bd4",
   "metadata": {
    "id": "1e7e4bd4"
   },
   "outputs": [],
   "source": [
    "arr = random_array(50)"
   ]
  },
  {
   "cell_type": "code",
   "execution_count": 13,
   "id": "1802d598",
   "metadata": {
    "id": "1802d598",
    "outputId": "1890da9c-71b0-43ac-8ac9-bca586471d76"
   },
   "outputs": [
    {
     "name": "stdout",
     "output_type": "stream",
     "text": [
      "[81, 52, 32, 12, 45, 93, 65, 43, 28, 72, 62, 2, 30, 9, 46, 49, 94, 99, 39, 5, 1, 93, 22, 61, 36, 53, 58, 16, 2, 43, 24, 1, 15, 37, 62, 54, 51, 69, 14, 85, 63, 25, 43, 41, 49, 75, 92, 77, 54, 31]\n"
     ]
    }
   ],
   "source": [
    "print(arr)"
   ]
  },
  {
   "cell_type": "code",
   "execution_count": 14,
   "id": "e18000f5",
   "metadata": {
    "id": "e18000f5",
    "outputId": "53e055c6-c1c4-48f4-adb2-86c807b241a8"
   },
   "outputs": [
    {
     "data": {
      "text/plain": [
       "46.1"
      ]
     },
     "execution_count": 14,
     "metadata": {},
     "output_type": "execute_result"
    }
   ],
   "source": [
    "mean(arr)"
   ]
  },
  {
   "cell_type": "code",
   "execution_count": 15,
   "id": "dd4e0608",
   "metadata": {
    "id": "dd4e0608",
    "outputId": "936a3534-9b37-40ef-a05a-3fa1ebee9f80"
   },
   "outputs": [
    {
     "data": {
      "text/plain": [
       "739.6900000000002"
      ]
     },
     "execution_count": 15,
     "metadata": {},
     "output_type": "execute_result"
    }
   ],
   "source": [
    "variance(arr)"
   ]
  },
  {
   "cell_type": "code",
   "execution_count": 16,
   "id": "1b34a15c",
   "metadata": {
    "id": "1b34a15c",
    "outputId": "226d9188-d108-47bc-c5e2-c5467a7f0d41"
   },
   "outputs": [
    {
     "data": {
      "text/plain": [
       "27.197242507283715"
      ]
     },
     "execution_count": 16,
     "metadata": {},
     "output_type": "execute_result"
    }
   ],
   "source": [
    "std_dev(arr)"
   ]
  },
  {
   "cell_type": "code",
   "execution_count": null,
   "id": "89559d43",
   "metadata": {
    "id": "89559d43"
   },
   "outputs": [],
   "source": []
  },
  {
   "cell_type": "code",
   "execution_count": null,
   "id": "aa288b49",
   "metadata": {
    "id": "aa288b49"
   },
   "outputs": [],
   "source": []
  },
  {
   "cell_type": "code",
   "execution_count": null,
   "id": "1a16e85f",
   "metadata": {
    "id": "1a16e85f"
   },
   "outputs": [],
   "source": []
  }
 ],
 "metadata": {
  "colab": {
   "provenance": []
  },
  "kernelspec": {
   "display_name": "Python 3 (ipykernel)",
   "language": "python",
   "name": "python3"
  },
  "language_info": {
   "codemirror_mode": {
    "name": "ipython",
    "version": 3
   },
   "file_extension": ".py",
   "mimetype": "text/x-python",
   "name": "python",
   "nbconvert_exporter": "python",
   "pygments_lexer": "ipython3",
   "version": "3.11.5"
  }
 },
 "nbformat": 4,
 "nbformat_minor": 5
}
